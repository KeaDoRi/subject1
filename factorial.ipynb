{
 "cells": [
  {
   "cell_type": "markdown",
   "metadata": {
    "collapsed": true,
    "pycharm": {
     "name": "#%% md\n"
    }
   },
   "source": [
    "# factorial class\n",
    "* 실행 방법 설명\n",
    "    * fac = Factorial(n)\n",
    "        * 목표로 한 n값을 넣어서 객체 생성\n",
    "    * fac.start()\n",
    "        * factorial 수행\n",
    "* 기능 추가\n",
    "    * factorial(n) 으로 수행하고 싶음\n",
    "        * 해당 작업을 위해 `__call__()` 함수 구현\n",
    "        * Factorial(n)() 수행하면 factorial을 구할 수 있음\n",
    "        * 인스턴스를 생성 후 실행하는 괄호를 한 번 더 호출할 필요가 있음\n",
    "        * helper함수를 통해 해당 작업을 대신 수행함\n",
    "        * 최종적으로 factorial(n)으로 수행 가능\n",
    "    * 성능\n",
    "        * factorial(n), factorial(n+1), factorial(...) 으로 계속 호출시 동일 연산을 수행함\n",
    "        * functools의 cache를 통해 성능 개선\n",
    "            * 직접 dict로 만들어도 됨"
   ]
  },
  {
   "cell_type": "code",
   "execution_count": 1,
   "outputs": [],
   "source": [
    "from functools import cache"
   ],
   "metadata": {
    "collapsed": false,
    "pycharm": {
     "name": "#%%\n"
    }
   }
  },
  {
   "cell_type": "code",
   "execution_count": 2,
   "outputs": [],
   "source": [
    "class Factorial:  # pep8 guide\n",
    "    def __init__(self, num: int):\n",
    "        \"\"\"\n",
    "        num: int, target for factorial\n",
    "        \"\"\"\n",
    "        self._target = num\n",
    "\n",
    "    def __call__(self):\n",
    "        return self.start()\n",
    "\n",
    "    def start(self):\n",
    "        \"\"\"\n",
    "        if target == 1, return 1\n",
    "        otherwise target * factorial(target-1)\n",
    "        :return:\n",
    "            target's factorial\n",
    "        \"\"\"\n",
    "        if self._target == 1:\n",
    "            return 1\n",
    "        else:\n",
    "            return self._target * factorial(self._target - 1)"
   ],
   "metadata": {
    "collapsed": false,
    "pycharm": {
     "name": "#%%\n"
    }
   }
  },
  {
   "cell_type": "code",
   "execution_count": 5,
   "outputs": [],
   "source": [
    "@cache\n",
    "def factorial(num):\n",
    "    print(num)\n",
    "    return Factorial(num)()"
   ],
   "metadata": {
    "collapsed": false,
    "pycharm": {
     "name": "#%%\n"
    }
   }
  },
  {
   "cell_type": "code",
   "execution_count": 6,
   "outputs": [
    {
     "name": "stdout",
     "output_type": "stream",
     "text": [
      "30\n",
      "29\n",
      "28\n",
      "27\n",
      "26\n",
      "25\n",
      "24\n",
      "23\n",
      "22\n",
      "21\n",
      "20\n",
      "19\n",
      "18\n",
      "17\n",
      "16\n",
      "15\n",
      "14\n",
      "13\n",
      "12\n",
      "11\n",
      "10\n",
      "9\n",
      "8\n",
      "7\n",
      "6\n",
      "5\n",
      "4\n",
      "3\n",
      "2\n",
      "1\n",
      "265252859812191058636308480000000\n"
     ]
    }
   ],
   "source": [
    "factorial(30)"
   ],
   "metadata": {
    "collapsed": false,
    "pycharm": {
     "name": "#%%\n"
    }
   }
  },
  {
   "cell_type": "code",
   "execution_count": 7,
   "outputs": [
    {
     "name": "stdout",
     "output_type": "stream",
     "text": [
      "31\n",
      "8222838654177922817725562880000000\n"
     ]
    }
   ],
   "source": [
    "factorial(31)"
   ],
   "metadata": {
    "collapsed": false,
    "pycharm": {
     "name": "#%%\n"
    }
   }
  },
  {
   "cell_type": "code",
   "execution_count": null,
   "outputs": [],
   "source": [],
   "metadata": {
    "collapsed": false,
    "pycharm": {
     "name": "#%%\n"
    }
   }
  }
 ],
 "metadata": {
  "kernelspec": {
   "display_name": "Python 3",
   "language": "python",
   "name": "python3"
  },
  "language_info": {
   "codemirror_mode": {
    "name": "ipython",
    "version": 2
   },
   "file_extension": ".py",
   "mimetype": "text/x-python",
   "name": "python",
   "nbconvert_exporter": "python",
   "pygments_lexer": "ipython2",
   "version": "2.7.6"
  }
 },
 "nbformat": 4,
 "nbformat_minor": 0
}